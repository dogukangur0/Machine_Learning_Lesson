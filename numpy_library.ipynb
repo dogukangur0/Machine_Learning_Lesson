{
 "cells": [
  {
   "cell_type": "code",
   "execution_count": 2,
   "id": "9f566bd6",
   "metadata": {},
   "outputs": [],
   "source": [
    "import numpy as np"
   ]
  },
  {
   "cell_type": "code",
   "execution_count": 3,
   "id": "a893c581",
   "metadata": {
    "scrolled": true
   },
   "outputs": [
    {
     "name": "stdout",
     "output_type": "stream",
     "text": [
      "[1 2 3]\n"
     ]
    }
   ],
   "source": [
    "array = np.array([1,2,3])\n",
    "print(array)"
   ]
  },
  {
   "cell_type": "code",
   "execution_count": 4,
   "id": "2b8ea46b",
   "metadata": {
    "scrolled": true
   },
   "outputs": [
    {
     "name": "stdout",
     "output_type": "stream",
     "text": [
      "(20,)\n"
     ]
    }
   ],
   "source": [
    "array2 = np.array([1,2,3,4,5,6,7,8,9,10,11,12,13,14,15,16,17,18,19,20])\n",
    "print(array2.shape)"
   ]
  },
  {
   "cell_type": "code",
   "execution_count": 6,
   "id": "09a4a4ea",
   "metadata": {},
   "outputs": [
    {
     "name": "stdout",
     "output_type": "stream",
     "text": [
      "[[ 1  2  3  4  5]\n",
      " [ 6  7  8  9 10]\n",
      " [11 12 13 14 15]\n",
      " [16 17 18 19 20]]\n"
     ]
    }
   ],
   "source": [
    "a = array2.reshape(4,5)\n",
    "print(a)"
   ]
  },
  {
   "cell_type": "code",
   "execution_count": 45,
   "id": "e6d81673",
   "metadata": {},
   "outputs": [
    {
     "name": "stdout",
     "output_type": "stream",
     "text": [
      "Shape: (4, 5)\n"
     ]
    }
   ],
   "source": [
    "print(\"Shape:\",a.shape)"
   ]
  },
  {
   "cell_type": "code",
   "execution_count": 7,
   "id": "d1f7f675",
   "metadata": {},
   "outputs": [
    {
     "name": "stdout",
     "output_type": "stream",
     "text": [
      "Dimension: 2\n"
     ]
    }
   ],
   "source": [
    "print(\"Dimension:\",a.ndim)"
   ]
  },
  {
   "cell_type": "code",
   "execution_count": 8,
   "id": "3bf366a9",
   "metadata": {},
   "outputs": [
    {
     "name": "stdout",
     "output_type": "stream",
     "text": [
      "Data Type: int32\n"
     ]
    }
   ],
   "source": [
    "print(\"Data Type:\",a.dtype.name)"
   ]
  },
  {
   "cell_type": "code",
   "execution_count": 8,
   "id": "8855dec9",
   "metadata": {},
   "outputs": [
    {
     "name": "stdout",
     "output_type": "stream",
     "text": [
      "Size: 20\n"
     ]
    }
   ],
   "source": [
    "print(\"Size:\",a.size)"
   ]
  },
  {
   "cell_type": "code",
   "execution_count": 9,
   "id": "5986a51f",
   "metadata": {},
   "outputs": [
    {
     "name": "stdout",
     "output_type": "stream",
     "text": [
      "Type: <class 'numpy.ndarray'>\n"
     ]
    }
   ],
   "source": [
    "print(\"Type:\",type(a))"
   ]
  },
  {
   "cell_type": "code",
   "execution_count": 10,
   "id": "b236b745",
   "metadata": {},
   "outputs": [
    {
     "name": "stdout",
     "output_type": "stream",
     "text": [
      "[[ 1  2  3  4]\n",
      " [ 5  6  7  8]\n",
      " [ 9 10 11 12]]\n"
     ]
    }
   ],
   "source": [
    "array3 = np.array([[1,2,3,4],[5,6,7,8],[9,10,11,12]])\n",
    "print(array3)"
   ]
  },
  {
   "cell_type": "code",
   "execution_count": 12,
   "id": "924e7f01",
   "metadata": {},
   "outputs": [
    {
     "data": {
      "text/plain": [
       "(3, 4)"
      ]
     },
     "execution_count": 12,
     "metadata": {},
     "output_type": "execute_result"
    }
   ],
   "source": [
    "array3.shape"
   ]
  },
  {
   "cell_type": "code",
   "execution_count": 13,
   "id": "cc95eba6",
   "metadata": {},
   "outputs": [
    {
     "name": "stdout",
     "output_type": "stream",
     "text": [
      "[[0. 0. 0. 0.]\n",
      " [0. 0. 0. 0.]\n",
      " [0. 0. 0. 0.]]\n"
     ]
    }
   ],
   "source": [
    "zeros = np.zeros((3,4))\n",
    "print(zeros)"
   ]
  },
  {
   "cell_type": "code",
   "execution_count": 14,
   "id": "8d2b8ed4",
   "metadata": {},
   "outputs": [
    {
     "name": "stdout",
     "output_type": "stream",
     "text": [
      "[[5. 0. 0. 0.]\n",
      " [0. 0. 0. 0.]\n",
      " [0. 0. 0. 0.]]\n"
     ]
    }
   ],
   "source": [
    "zeros[0,0] = 5\n",
    "print(zeros)"
   ]
  },
  {
   "cell_type": "code",
   "execution_count": 15,
   "id": "79ef3542",
   "metadata": {},
   "outputs": [
    {
     "name": "stdout",
     "output_type": "stream",
     "text": [
      "[[1. 1. 1. 1.]\n",
      " [1. 1. 1. 1.]\n",
      " [1. 1. 1. 1.]]\n"
     ]
    }
   ],
   "source": [
    "ones = np.ones((3,4))\n",
    "print(ones)"
   ]
  },
  {
   "cell_type": "code",
   "execution_count": 16,
   "id": "80aab729",
   "metadata": {},
   "outputs": [
    {
     "data": {
      "text/plain": [
       "array([[4.67296746e-307, 1.69121096e-306, 1.20160983e-306,\n",
       "        7.56587584e-307, 1.37961302e-306],\n",
       "       [1.05699242e-307, 8.01097889e-307, 1.78020169e-306,\n",
       "        7.56601165e-307, 1.02359984e-306],\n",
       "       [1.33510679e-306, 2.22522597e-306, 1.33511018e-306,\n",
       "        6.23057689e-307, 9.45754852e-308],\n",
       "       [1.27946076e-307, 1.05700515e-307, 1.11261774e-306,\n",
       "        1.29060871e-306, 8.34424766e-308]])"
      ]
     },
     "execution_count": 16,
     "metadata": {},
     "output_type": "execute_result"
    }
   ],
   "source": [
    "np.empty((4,5))"
   ]
  },
  {
   "cell_type": "code",
   "execution_count": 11,
   "id": "70bec970",
   "metadata": {},
   "outputs": [
    {
     "data": {
      "text/plain": [
       "array([10, 12, 14, 16, 18, 20, 22, 24, 26, 28, 30, 32, 34, 36, 38, 40, 42,\n",
       "       44, 46, 48])"
      ]
     },
     "execution_count": 11,
     "metadata": {},
     "output_type": "execute_result"
    }
   ],
   "source": [
    "np.arange(10,50,2)"
   ]
  },
  {
   "cell_type": "code",
   "execution_count": 18,
   "id": "4c6f86df",
   "metadata": {},
   "outputs": [
    {
     "name": "stdout",
     "output_type": "stream",
     "text": [
      "[ 0.          0.52631579  1.05263158  1.57894737  2.10526316  2.63157895\n",
      "  3.15789474  3.68421053  4.21052632  4.73684211  5.26315789  5.78947368\n",
      "  6.31578947  6.84210526  7.36842105  7.89473684  8.42105263  8.94736842\n",
      "  9.47368421 10.        ]\n"
     ]
    }
   ],
   "source": [
    "a = np.linspace(0,10,20)\n",
    "print(a)"
   ]
  },
  {
   "cell_type": "code",
   "execution_count": 19,
   "id": "b7378e0e",
   "metadata": {},
   "outputs": [
    {
     "name": "stdout",
     "output_type": "stream",
     "text": [
      "[5 7 9]\n",
      "[-3 -3 -3]\n",
      "[1 4 9]\n"
     ]
    }
   ],
   "source": [
    "a = np.array([1,2,3])\n",
    "b = np.array([4,5,6])\n",
    "\n",
    "print(a+b)\n",
    "print(a-b)\n",
    "print(a**2)"
   ]
  },
  {
   "cell_type": "code",
   "execution_count": 11,
   "id": "da2dabb4",
   "metadata": {},
   "outputs": [
    {
     "name": "stdout",
     "output_type": "stream",
     "text": [
      "[1, 2, 3, 4]\n",
      "[5 6 7 8]\n"
     ]
    }
   ],
   "source": [
    "liste = [1,2,3,4]\n",
    "array = np.array([5,6,7,8])\n",
    "print(liste)\n",
    "print(array)"
   ]
  },
  {
   "cell_type": "code",
   "execution_count": 21,
   "id": "88ed1e7a",
   "metadata": {},
   "outputs": [
    {
     "name": "stdout",
     "output_type": "stream",
     "text": [
      "[5 2 3] [5 2 3] [5 2 3]\n"
     ]
    }
   ],
   "source": [
    "a = np.array([1,2,3])\n",
    "b = a\n",
    "c = a\n",
    "b[0] = 5\n",
    "print(a,b,c)"
   ]
  },
  {
   "cell_type": "code",
   "execution_count": 22,
   "id": "a10ad9ee",
   "metadata": {},
   "outputs": [
    {
     "name": "stdout",
     "output_type": "stream",
     "text": [
      "[5 2 3]\n"
     ]
    }
   ],
   "source": [
    "a[0] = 5\n",
    "d = a.copy()\n",
    "print(d)"
   ]
  },
  {
   "cell_type": "code",
   "execution_count": 23,
   "id": "4227e59c",
   "metadata": {},
   "outputs": [
    {
     "data": {
      "text/plain": [
       "array([5, 2, 3])"
      ]
     },
     "execution_count": 23,
     "metadata": {},
     "output_type": "execute_result"
    }
   ],
   "source": [
    "d"
   ]
  },
  {
   "cell_type": "code",
   "execution_count": 24,
   "id": "2eca545e",
   "metadata": {},
   "outputs": [],
   "source": [
    "a = np.array([1,2,3,4,5,6,7])"
   ]
  },
  {
   "cell_type": "code",
   "execution_count": 25,
   "id": "187d046e",
   "metadata": {},
   "outputs": [
    {
     "data": {
      "text/plain": [
       "1"
      ]
     },
     "execution_count": 25,
     "metadata": {},
     "output_type": "execute_result"
    }
   ],
   "source": [
    "a[0]"
   ]
  },
  {
   "cell_type": "code",
   "execution_count": 26,
   "id": "a19b1545",
   "metadata": {},
   "outputs": [
    {
     "data": {
      "text/plain": [
       "array([1, 2, 3, 4])"
      ]
     },
     "execution_count": 26,
     "metadata": {},
     "output_type": "execute_result"
    }
   ],
   "source": [
    "a[0:4] #(inclusive,exclusive)"
   ]
  },
  {
   "cell_type": "code",
   "execution_count": 27,
   "id": "4ad65aa3",
   "metadata": {},
   "outputs": [
    {
     "data": {
      "text/plain": [
       "array([7, 6, 5, 4, 3, 2, 1])"
      ]
     },
     "execution_count": 27,
     "metadata": {},
     "output_type": "execute_result"
    }
   ],
   "source": [
    "a[::-1] #reverse"
   ]
  },
  {
   "cell_type": "code",
   "execution_count": 18,
   "id": "b8a8598d",
   "metadata": {},
   "outputs": [
    {
     "data": {
      "text/plain": [
       "array([[ 1,  2,  3,  4,  5],\n",
       "       [ 6,  7,  8,  9, 10]])"
      ]
     },
     "execution_count": 18,
     "metadata": {},
     "output_type": "execute_result"
    }
   ],
   "source": [
    "b = np.array([[1,2,3,4,5],[6,7,8,9,10]])\n",
    "b"
   ]
  },
  {
   "cell_type": "code",
   "execution_count": 19,
   "id": "4d3f2d54",
   "metadata": {},
   "outputs": [
    {
     "name": "stdout",
     "output_type": "stream",
     "text": [
      "7\n"
     ]
    }
   ],
   "source": [
    "print(b[1,1])"
   ]
  },
  {
   "cell_type": "code",
   "execution_count": 20,
   "id": "a70da9fe",
   "metadata": {},
   "outputs": [
    {
     "name": "stdout",
     "output_type": "stream",
     "text": [
      "[2 7]\n"
     ]
    }
   ],
   "source": [
    "print(b[:,1]) "
   ]
  },
  {
   "cell_type": "code",
   "execution_count": 21,
   "id": "6ebcc3d1",
   "metadata": {},
   "outputs": [
    {
     "data": {
      "text/plain": [
       "array([ 6,  7,  8,  9, 10])"
      ]
     },
     "execution_count": 21,
     "metadata": {},
     "output_type": "execute_result"
    }
   ],
   "source": [
    "b[1,:]        "
   ]
  },
  {
   "cell_type": "code",
   "execution_count": 22,
   "id": "067c7bed",
   "metadata": {},
   "outputs": [
    {
     "data": {
      "text/plain": [
       "array([7, 8, 9])"
      ]
     },
     "execution_count": 22,
     "metadata": {},
     "output_type": "execute_result"
    }
   ],
   "source": [
    "b[1,1:4]"
   ]
  },
  {
   "cell_type": "code",
   "execution_count": 23,
   "id": "f31ad539",
   "metadata": {},
   "outputs": [
    {
     "data": {
      "text/plain": [
       "array([ 6,  7,  8,  9, 10])"
      ]
     },
     "execution_count": 23,
     "metadata": {},
     "output_type": "execute_result"
    }
   ],
   "source": [
    "b[-1,:]"
   ]
  },
  {
   "cell_type": "code",
   "execution_count": 24,
   "id": "8feb2ffa",
   "metadata": {},
   "outputs": [
    {
     "data": {
      "text/plain": [
       "array([ 5, 10])"
      ]
     },
     "execution_count": 24,
     "metadata": {},
     "output_type": "execute_result"
    }
   ],
   "source": [
    "b[:,-1]"
   ]
  },
  {
   "cell_type": "code",
   "execution_count": 25,
   "id": "66444353",
   "metadata": {},
   "outputs": [
    {
     "name": "stdout",
     "output_type": "stream",
     "text": [
      "[ 1  2  3  4  5  6  7  8  9 10]\n"
     ]
    }
   ],
   "source": [
    "b = b.ravel()\n",
    "print(b)"
   ]
  },
  {
   "cell_type": "code",
   "execution_count": 26,
   "id": "8ff46d1b",
   "metadata": {},
   "outputs": [
    {
     "data": {
      "text/plain": [
       "array([ 1,  2,  3,  4,  5,  6,  7,  8,  9, 10])"
      ]
     },
     "execution_count": 26,
     "metadata": {},
     "output_type": "execute_result"
    }
   ],
   "source": [
    "b.T"
   ]
  },
  {
   "cell_type": "markdown",
   "id": "ac5ec4dc",
   "metadata": {},
   "source": [
    "Pandas Basic Method"
   ]
  },
  {
   "cell_type": "code",
   "execution_count": 8,
   "id": "c6f9fd01",
   "metadata": {},
   "outputs": [],
   "source": [
    "import pandas as pd"
   ]
  },
  {
   "cell_type": "code",
   "execution_count": 9,
   "id": "e61defeb",
   "metadata": {},
   "outputs": [
    {
     "name": "stdout",
     "output_type": "stream",
     "text": [
      "      name   age  note\n",
      "0  doğukan  22.0   123\n",
      "1    murat  21.0   321\n",
      "2     ayşe   NaN    56\n",
      "3    melis  23.0   789\n"
     ]
    }
   ],
   "source": [
    "dictionary = {\"name\":[\"doğukan\",\"murat\",\"ayşe\",\"melis\"],\n",
    "              \"age\":[22,21,None,23],\n",
    "              \"note\":[123,321,56,789]}\n",
    "dataframe1 = pd.DataFrame(dictionary)\n",
    "print(dataframe1)"
   ]
  },
  {
   "cell_type": "code",
   "execution_count": 10,
   "id": "3a3fce22",
   "metadata": {},
   "outputs": [
    {
     "name": "stdout",
     "output_type": "stream",
     "text": [
      "      name   age  note\n",
      "0  doğukan  22.0   123\n",
      "1    murat  21.0   321\n",
      "2     ayşe   NaN    56\n",
      "3    melis  23.0   789\n"
     ]
    }
   ],
   "source": [
    "head = dataframe1.head()\n",
    "print(head)"
   ]
  },
  {
   "cell_type": "code",
   "execution_count": 11,
   "id": "65343de2",
   "metadata": {},
   "outputs": [
    {
     "name": "stdout",
     "output_type": "stream",
     "text": [
      "Index(['name', 'age', 'note'], dtype='object') \n",
      "\n",
      "<class 'pandas.core.frame.DataFrame'>\n",
      "RangeIndex: 4 entries, 0 to 3\n",
      "Data columns (total 3 columns):\n",
      " #   Column  Non-Null Count  Dtype  \n",
      "---  ------  --------------  -----  \n",
      " 0   name    4 non-null      object \n",
      " 1   age     3 non-null      float64\n",
      " 2   note    4 non-null      int64  \n",
      "dtypes: float64(1), int64(1), object(1)\n",
      "memory usage: 224.0+ bytes\n",
      "None \n",
      "\n",
      "name     object\n",
      "age     float64\n",
      "note      int64\n",
      "dtype: object \n",
      "\n",
      "        age        note\n",
      "count   3.0    4.000000\n",
      "mean   22.0  322.250000\n",
      "std     1.0  330.881021\n",
      "min    21.0   56.000000\n",
      "25%    21.5  106.250000\n",
      "50%    22.0  222.000000\n",
      "75%    22.5  438.000000\n",
      "max    23.0  789.000000 \n",
      "\n"
     ]
    }
   ],
   "source": [
    "print(dataframe1.columns,'\\n')\n",
    "print(dataframe1.info(),'\\n')\n",
    "print(dataframe1.dtypes,'\\n')\n",
    "print(dataframe1.describe(),'\\n')"
   ]
  },
  {
   "cell_type": "markdown",
   "id": "9f653d95",
   "metadata": {},
   "source": [
    "Indexing And Slicing"
   ]
  },
  {
   "cell_type": "code",
   "execution_count": 12,
   "id": "8a426d50",
   "metadata": {},
   "outputs": [
    {
     "name": "stdout",
     "output_type": "stream",
     "text": [
      "0    doğukan\n",
      "1      murat\n",
      "2       ayşe\n",
      "3      melis\n",
      "Name: name, dtype: object\n"
     ]
    }
   ],
   "source": [
    "print(dataframe1[\"name\"])"
   ]
  },
  {
   "cell_type": "code",
   "execution_count": 13,
   "id": "bc446951",
   "metadata": {},
   "outputs": [
    {
     "name": "stdout",
     "output_type": "stream",
     "text": [
      "0    22.0\n",
      "1    21.0\n",
      "2     NaN\n",
      "3    23.0\n",
      "Name: age, dtype: float64\n"
     ]
    }
   ],
   "source": [
    "print(dataframe1.loc[:,\"age\"])"
   ]
  },
  {
   "cell_type": "code",
   "execution_count": 14,
   "id": "a7c7c981",
   "metadata": {},
   "outputs": [
    {
     "name": "stdout",
     "output_type": "stream",
     "text": [
      "      name   age  note  yeni_future\n",
      "0  doğukan  22.0   123            1\n",
      "1    murat  21.0   321            2\n",
      "2     ayşe   NaN    56            3\n",
      "3    melis  23.0   789            4\n"
     ]
    }
   ],
   "source": [
    "yeni_future = [1,2,3,4]\n",
    "dataframe1[\"yeni_future\"]=yeni_future\n",
    "print(dataframe1)"
   ]
  },
  {
   "cell_type": "code",
   "execution_count": 15,
   "id": "ad177bce",
   "metadata": {},
   "outputs": [
    {
     "name": "stdout",
     "output_type": "stream",
     "text": [
      "0    22.0\n",
      "1    21.0\n",
      "2     NaN\n",
      "3    23.0\n",
      "Name: age, dtype: float64\n"
     ]
    }
   ],
   "source": [
    "print(dataframe1.loc[:3,\"age\"])"
   ]
  },
  {
   "cell_type": "code",
   "execution_count": 16,
   "id": "f700f0f1",
   "metadata": {},
   "outputs": [
    {
     "name": "stdout",
     "output_type": "stream",
     "text": [
      "    age  note\n",
      "0  22.0   123\n",
      "1  21.0   321\n"
     ]
    }
   ],
   "source": [
    "print(dataframe1.loc[:1,\"age\":\"note\"])"
   ]
  },
  {
   "cell_type": "code",
   "execution_count": 17,
   "id": "58d4ef5c",
   "metadata": {},
   "outputs": [
    {
     "name": "stdout",
     "output_type": "stream",
     "text": [
      "      name   age  note  yeni_future\n",
      "3    melis  23.0   789            4\n",
      "2     ayşe   NaN    56            3\n",
      "1    murat  21.0   321            2\n",
      "0  doğukan  22.0   123            1\n"
     ]
    }
   ],
   "source": [
    "print(dataframe1.loc[::-1])"
   ]
  },
  {
   "cell_type": "code",
   "execution_count": 18,
   "id": "861459d3",
   "metadata": {},
   "outputs": [
    {
     "name": "stdout",
     "output_type": "stream",
     "text": [
      "    age   bool\n",
      "0  22.0   True\n",
      "1  21.0   True\n",
      "2   NaN  False\n",
      "3  23.0   True\n"
     ]
    }
   ],
   "source": [
    "filtre1 = dataframe1.age>0\n",
    "dataframe1[\"bool\"]=filtre1\n",
    "print(dataframe1.loc[:,[\"age\",\"bool\"]])"
   ]
  },
  {
   "cell_type": "code",
   "execution_count": 19,
   "id": "83350ea9",
   "metadata": {},
   "outputs": [
    {
     "name": "stdout",
     "output_type": "stream",
     "text": [
      "    name   age  note  yeni_future  bool\n",
      "1  murat  21.0   321            2  True\n",
      "3  melis  23.0   789            4  True\n"
     ]
    }
   ],
   "source": [
    "filtre2 = dataframe1.note>200\n",
    "filtrelenmis_data = dataframe1[filtre1 & filtre2]\n",
    "print(filtrelenmis_data)"
   ]
  },
  {
   "cell_type": "markdown",
   "id": "2e434077",
   "metadata": {},
   "source": [
    "Filtering Pandas DataFrame"
   ]
  },
  {
   "cell_type": "code",
   "execution_count": 20,
   "id": "2cc1aa3c",
   "metadata": {},
   "outputs": [
    {
     "data": {
      "text/html": [
       "<div>\n",
       "<style scoped>\n",
       "    .dataframe tbody tr th:only-of-type {\n",
       "        vertical-align: middle;\n",
       "    }\n",
       "\n",
       "    .dataframe tbody tr th {\n",
       "        vertical-align: top;\n",
       "    }\n",
       "\n",
       "    .dataframe thead th {\n",
       "        text-align: right;\n",
       "    }\n",
       "</style>\n",
       "<table border=\"1\" class=\"dataframe\">\n",
       "  <thead>\n",
       "    <tr style=\"text-align: right;\">\n",
       "      <th></th>\n",
       "      <th>name</th>\n",
       "      <th>age</th>\n",
       "      <th>note</th>\n",
       "      <th>yeni_future</th>\n",
       "      <th>bool</th>\n",
       "    </tr>\n",
       "  </thead>\n",
       "  <tbody>\n",
       "    <tr>\n",
       "      <th>0</th>\n",
       "      <td>doğukan</td>\n",
       "      <td>22.0</td>\n",
       "      <td>123</td>\n",
       "      <td>1</td>\n",
       "      <td>True</td>\n",
       "    </tr>\n",
       "    <tr>\n",
       "      <th>1</th>\n",
       "      <td>murat</td>\n",
       "      <td>21.0</td>\n",
       "      <td>321</td>\n",
       "      <td>2</td>\n",
       "      <td>True</td>\n",
       "    </tr>\n",
       "    <tr>\n",
       "      <th>3</th>\n",
       "      <td>melis</td>\n",
       "      <td>23.0</td>\n",
       "      <td>789</td>\n",
       "      <td>4</td>\n",
       "      <td>True</td>\n",
       "    </tr>\n",
       "  </tbody>\n",
       "</table>\n",
       "</div>"
      ],
      "text/plain": [
       "      name   age  note  yeni_future  bool\n",
       "0  doğukan  22.0   123            1  True\n",
       "1    murat  21.0   321            2  True\n",
       "3    melis  23.0   789            4  True"
      ]
     },
     "execution_count": 20,
     "metadata": {},
     "output_type": "execute_result"
    }
   ],
   "source": [
    "dataframe1.dropna(inplace=True)\n",
    "dataframe1"
   ]
  },
  {
   "cell_type": "code",
   "execution_count": 21,
   "id": "ac7041b1",
   "metadata": {},
   "outputs": [
    {
     "data": {
      "text/html": [
       "<div>\n",
       "<style scoped>\n",
       "    .dataframe tbody tr th:only-of-type {\n",
       "        vertical-align: middle;\n",
       "    }\n",
       "\n",
       "    .dataframe tbody tr th {\n",
       "        vertical-align: top;\n",
       "    }\n",
       "\n",
       "    .dataframe thead th {\n",
       "        text-align: right;\n",
       "    }\n",
       "</style>\n",
       "<table border=\"1\" class=\"dataframe\">\n",
       "  <thead>\n",
       "    <tr style=\"text-align: right;\">\n",
       "      <th></th>\n",
       "      <th>name</th>\n",
       "      <th>age</th>\n",
       "      <th>note</th>\n",
       "      <th>yeni_future</th>\n",
       "      <th>bool</th>\n",
       "      <th>situation</th>\n",
       "    </tr>\n",
       "  </thead>\n",
       "  <tbody>\n",
       "    <tr>\n",
       "      <th>0</th>\n",
       "      <td>doğukan</td>\n",
       "      <td>22.0</td>\n",
       "      <td>123</td>\n",
       "      <td>1</td>\n",
       "      <td>True</td>\n",
       "      <td>below average</td>\n",
       "    </tr>\n",
       "    <tr>\n",
       "      <th>1</th>\n",
       "      <td>murat</td>\n",
       "      <td>21.0</td>\n",
       "      <td>321</td>\n",
       "      <td>2</td>\n",
       "      <td>True</td>\n",
       "      <td>below average</td>\n",
       "    </tr>\n",
       "    <tr>\n",
       "      <th>3</th>\n",
       "      <td>melis</td>\n",
       "      <td>23.0</td>\n",
       "      <td>789</td>\n",
       "      <td>4</td>\n",
       "      <td>True</td>\n",
       "      <td>above average</td>\n",
       "    </tr>\n",
       "  </tbody>\n",
       "</table>\n",
       "</div>"
      ],
      "text/plain": [
       "      name   age  note  yeni_future  bool      situation\n",
       "0  doğukan  22.0   123            1  True  below average\n",
       "1    murat  21.0   321            2  True  below average\n",
       "3    melis  23.0   789            4  True  above average"
      ]
     },
     "execution_count": 21,
     "metadata": {},
     "output_type": "execute_result"
    }
   ],
   "source": [
    "dataframe1[\"situation\"] = [\"below average\" if dataframe1.note.mean()>each else \"above average\" for each in dataframe1.note]\n",
    "dataframe1"
   ]
  },
  {
   "cell_type": "code",
   "execution_count": 23,
   "id": "0976cb53",
   "metadata": {
    "scrolled": true
   },
   "outputs": [
    {
     "data": {
      "text/html": [
       "<div>\n",
       "<style scoped>\n",
       "    .dataframe tbody tr th:only-of-type {\n",
       "        vertical-align: middle;\n",
       "    }\n",
       "\n",
       "    .dataframe tbody tr th {\n",
       "        vertical-align: top;\n",
       "    }\n",
       "\n",
       "    .dataframe thead th {\n",
       "        text-align: right;\n",
       "    }\n",
       "</style>\n",
       "<table border=\"1\" class=\"dataframe\">\n",
       "  <thead>\n",
       "    <tr style=\"text-align: right;\">\n",
       "      <th></th>\n",
       "      <th>name</th>\n",
       "      <th>age</th>\n",
       "      <th>note</th>\n",
       "      <th>yeni future</th>\n",
       "      <th>bool</th>\n",
       "      <th>situation</th>\n",
       "      <th>yeni2 future</th>\n",
       "    </tr>\n",
       "  </thead>\n",
       "  <tbody>\n",
       "    <tr>\n",
       "      <th>0</th>\n",
       "      <td>doğukan</td>\n",
       "      <td>22.0</td>\n",
       "      <td>123</td>\n",
       "      <td>1</td>\n",
       "      <td>True</td>\n",
       "      <td>below average</td>\n",
       "      <td>1</td>\n",
       "    </tr>\n",
       "    <tr>\n",
       "      <th>1</th>\n",
       "      <td>murat</td>\n",
       "      <td>21.0</td>\n",
       "      <td>321</td>\n",
       "      <td>2</td>\n",
       "      <td>True</td>\n",
       "      <td>below average</td>\n",
       "      <td>1</td>\n",
       "    </tr>\n",
       "    <tr>\n",
       "      <th>3</th>\n",
       "      <td>melis</td>\n",
       "      <td>23.0</td>\n",
       "      <td>789</td>\n",
       "      <td>4</td>\n",
       "      <td>True</td>\n",
       "      <td>above average</td>\n",
       "      <td>1</td>\n",
       "    </tr>\n",
       "  </tbody>\n",
       "</table>\n",
       "</div>"
      ],
      "text/plain": [
       "      name   age  note  yeni future  bool      situation  yeni2 future\n",
       "0  doğukan  22.0   123            1  True  below average             1\n",
       "1    murat  21.0   321            2  True  below average             1\n",
       "3    melis  23.0   789            4  True  above average             1"
      ]
     },
     "execution_count": 23,
     "metadata": {},
     "output_type": "execute_result"
    }
   ],
   "source": [
    "dataframe1[\"yeni2_future\"]=[1,1,1]\n",
    "dataframe1.columns = [each.split('_')[0]+\" \"+each.split('_')[1] if len(each.split('_'))>1 else each for each in dataframe1.columns]\n",
    "dataframe1"
   ]
  },
  {
   "cell_type": "markdown",
   "id": "6d583ed6",
   "metadata": {},
   "source": [
    "List Comprehension"
   ]
  },
  {
   "cell_type": "code",
   "execution_count": 24,
   "id": "848540ed",
   "metadata": {},
   "outputs": [
    {
     "data": {
      "text/plain": [
       "Index(['NAME', 'AGE', 'NOTE', 'YENI FUTURE', 'BOOL', 'SITUATION',\n",
       "       'YENI2 FUTURE'],\n",
       "      dtype='object')"
      ]
     },
     "execution_count": 24,
     "metadata": {},
     "output_type": "execute_result"
    }
   ],
   "source": [
    "dataframe1.columns = [each.upper() for each in dataframe1.columns]\n",
    "dataframe1.columns"
   ]
  },
  {
   "cell_type": "code",
   "execution_count": 25,
   "id": "b1d7d903",
   "metadata": {},
   "outputs": [
    {
     "data": {
      "text/html": [
       "<div>\n",
       "<style scoped>\n",
       "    .dataframe tbody tr th:only-of-type {\n",
       "        vertical-align: middle;\n",
       "    }\n",
       "\n",
       "    .dataframe tbody tr th {\n",
       "        vertical-align: top;\n",
       "    }\n",
       "\n",
       "    .dataframe thead th {\n",
       "        text-align: right;\n",
       "    }\n",
       "</style>\n",
       "<table border=\"1\" class=\"dataframe\">\n",
       "  <thead>\n",
       "    <tr style=\"text-align: right;\">\n",
       "      <th></th>\n",
       "      <th>NAME</th>\n",
       "      <th>AGE</th>\n",
       "      <th>NOTE</th>\n",
       "      <th>YENI FUTURE</th>\n",
       "      <th>BOOL</th>\n",
       "      <th>SITUATION</th>\n",
       "      <th>YENI2 FUTURE</th>\n",
       "    </tr>\n",
       "  </thead>\n",
       "  <tbody>\n",
       "    <tr>\n",
       "      <th>0</th>\n",
       "      <td>doğukan</td>\n",
       "      <td>22.0</td>\n",
       "      <td>123</td>\n",
       "      <td>1</td>\n",
       "      <td>True</td>\n",
       "      <td>below average</td>\n",
       "      <td>1</td>\n",
       "    </tr>\n",
       "    <tr>\n",
       "      <th>1</th>\n",
       "      <td>murat</td>\n",
       "      <td>21.0</td>\n",
       "      <td>321</td>\n",
       "      <td>2</td>\n",
       "      <td>True</td>\n",
       "      <td>below average</td>\n",
       "      <td>1</td>\n",
       "    </tr>\n",
       "    <tr>\n",
       "      <th>3</th>\n",
       "      <td>melis</td>\n",
       "      <td>23.0</td>\n",
       "      <td>789</td>\n",
       "      <td>4</td>\n",
       "      <td>True</td>\n",
       "      <td>above average</td>\n",
       "      <td>1</td>\n",
       "    </tr>\n",
       "    <tr>\n",
       "      <th>0</th>\n",
       "      <td>doğukan</td>\n",
       "      <td>22.0</td>\n",
       "      <td>123</td>\n",
       "      <td>1</td>\n",
       "      <td>True</td>\n",
       "      <td>below average</td>\n",
       "      <td>1</td>\n",
       "    </tr>\n",
       "    <tr>\n",
       "      <th>1</th>\n",
       "      <td>murat</td>\n",
       "      <td>21.0</td>\n",
       "      <td>321</td>\n",
       "      <td>2</td>\n",
       "      <td>True</td>\n",
       "      <td>below average</td>\n",
       "      <td>1</td>\n",
       "    </tr>\n",
       "    <tr>\n",
       "      <th>3</th>\n",
       "      <td>melis</td>\n",
       "      <td>23.0</td>\n",
       "      <td>789</td>\n",
       "      <td>4</td>\n",
       "      <td>True</td>\n",
       "      <td>above average</td>\n",
       "      <td>1</td>\n",
       "    </tr>\n",
       "  </tbody>\n",
       "</table>\n",
       "</div>"
      ],
      "text/plain": [
       "      NAME   AGE  NOTE  YENI FUTURE  BOOL      SITUATION  YENI2 FUTURE\n",
       "0  doğukan  22.0   123            1  True  below average             1\n",
       "1    murat  21.0   321            2  True  below average             1\n",
       "3    melis  23.0   789            4  True  above average             1\n",
       "0  doğukan  22.0   123            1  True  below average             1\n",
       "1    murat  21.0   321            2  True  below average             1\n",
       "3    melis  23.0   789            4  True  above average             1"
      ]
     },
     "execution_count": 25,
     "metadata": {},
     "output_type": "execute_result"
    }
   ],
   "source": [
    "data1 = dataframe1.head()\n",
    "data2 = dataframe1.tail()\n",
    "data_concat = pd.concat([data1,data2],axis=0)\n",
    "data_concat"
   ]
  },
  {
   "cell_type": "code",
   "execution_count": 27,
   "id": "de326c08",
   "metadata": {},
   "outputs": [
    {
     "data": {
      "text/html": [
       "<div>\n",
       "<style scoped>\n",
       "    .dataframe tbody tr th:only-of-type {\n",
       "        vertical-align: middle;\n",
       "    }\n",
       "\n",
       "    .dataframe tbody tr th {\n",
       "        vertical-align: top;\n",
       "    }\n",
       "\n",
       "    .dataframe thead th {\n",
       "        text-align: right;\n",
       "    }\n",
       "</style>\n",
       "<table border=\"1\" class=\"dataframe\">\n",
       "  <thead>\n",
       "    <tr style=\"text-align: right;\">\n",
       "      <th></th>\n",
       "      <th>NAME</th>\n",
       "      <th>AGE</th>\n",
       "      <th>NOTE</th>\n",
       "      <th>YENI FUTURE</th>\n",
       "      <th>BOOL</th>\n",
       "      <th>SITUATION</th>\n",
       "      <th>YENI2 FUTURE</th>\n",
       "      <th>new_age</th>\n",
       "      <th>apply_metodu</th>\n",
       "    </tr>\n",
       "  </thead>\n",
       "  <tbody>\n",
       "    <tr>\n",
       "      <th>0</th>\n",
       "      <td>doğukan</td>\n",
       "      <td>22.0</td>\n",
       "      <td>123</td>\n",
       "      <td>1</td>\n",
       "      <td>True</td>\n",
       "      <td>below average</td>\n",
       "      <td>1</td>\n",
       "      <td>44.0</td>\n",
       "      <td>44.0</td>\n",
       "    </tr>\n",
       "    <tr>\n",
       "      <th>1</th>\n",
       "      <td>murat</td>\n",
       "      <td>21.0</td>\n",
       "      <td>321</td>\n",
       "      <td>2</td>\n",
       "      <td>True</td>\n",
       "      <td>below average</td>\n",
       "      <td>1</td>\n",
       "      <td>42.0</td>\n",
       "      <td>42.0</td>\n",
       "    </tr>\n",
       "    <tr>\n",
       "      <th>3</th>\n",
       "      <td>melis</td>\n",
       "      <td>23.0</td>\n",
       "      <td>789</td>\n",
       "      <td>4</td>\n",
       "      <td>True</td>\n",
       "      <td>above average</td>\n",
       "      <td>1</td>\n",
       "      <td>46.0</td>\n",
       "      <td>46.0</td>\n",
       "    </tr>\n",
       "  </tbody>\n",
       "</table>\n",
       "</div>"
      ],
      "text/plain": [
       "      NAME   AGE  NOTE  YENI FUTURE  BOOL      SITUATION  YENI2 FUTURE  \\\n",
       "0  doğukan  22.0   123            1  True  below average             1   \n",
       "1    murat  21.0   321            2  True  below average             1   \n",
       "3    melis  23.0   789            4  True  above average             1   \n",
       "\n",
       "   new_age  apply_metodu  \n",
       "0     44.0          44.0  \n",
       "1     42.0          42.0  \n",
       "3     46.0          46.0  "
      ]
     },
     "execution_count": 27,
     "metadata": {},
     "output_type": "execute_result"
    }
   ],
   "source": [
    "dataframe1[\"new_age\"] = [each*2 for each in dataframe1.AGE]\n",
    "\n",
    "def mlt(yas):\n",
    "    return yas*2\n",
    "dataframe1[\"apply_metodu\"] = dataframe1.AGE.apply(mlt)\n",
    "dataframe1"
   ]
  },
  {
   "cell_type": "markdown",
   "id": "d2b08c2e",
   "metadata": {},
   "source": [
    "Matplotlib Machine"
   ]
  },
  {
   "cell_type": "code",
   "execution_count": 12,
   "id": "f59f094f",
   "metadata": {},
   "outputs": [],
   "source": [
    "import matplotlib.pyplot as plt\n",
    "import numpy as np"
   ]
  },
  {
   "cell_type": "code",
   "execution_count": 13,
   "id": "90da41f7",
   "metadata": {},
   "outputs": [
    {
     "data": {
      "image/png": "[encoded data removed]",
      "text/plain": [
       "<Figure size 640x480 with 1 Axes>"
      ]
     },
     "metadata": {},
     "output_type": "display_data"
    }
   ],
   "source": [
    "# Data\n",
    "x = np.arange(0,20,0.5) # [0,0.1,0.2 .... 9.9]\n",
    "y = np.sin(x)\n",
    "\n",
    "#Graph creation\n",
    "\n",
    "plt.plot(x,y)\n",
    "\n",
    "#Determine chart properties\n",
    "plt.title(\"Sine graph\")\n",
    "plt.xlabel(\"X axis\")\n",
    "plt.ylabel(\"Y axis\")\n",
    "\n",
    "#show graph\n",
    "plt.show()"
   ]
  },
  {
   "cell_type": "code",
   "execution_count": 15,
   "id": "ecf9af35",
   "metadata": {
    "scrolled": false
   },
   "outputs": [
    {
     "data": {
      "image/png": "[encoded data removed]",
      "text/plain": [
       "<Figure size 640x480 with 1 Axes>"
      ]
     },
     "metadata": {},
     "output_type": "display_data"
    }
   ],
   "source": [
    "import matplotlib.pyplot as plt\n",
    "import numpy as np\n",
    "\n",
    "x = np.random.rand(50)\n",
    "y = np.random.rand(50)\n",
    "colors = np.random.rand(50)\n",
    "sizes = np.random.randint(50, 200, 50)\n",
    "\n",
    "#Graph creation\n",
    "plt.scatter(x, y, c=colors, s=sizes)\n",
    "\n",
    "#Determine chart properties\n",
    "plt.title(\"Point chart\")\n",
    "plt.xlabel(\"X axis\")\n",
    "plt.ylabel(\"Y axis\")\n",
    "\n",
    "plt.show()"
   ]
  },
  {
   "cell_type": "code",
   "execution_count": 16,
   "id": "ebd5b59a",
   "metadata": {},
   "outputs": [
    {
     "data": {
      "image/png": "[encoded data removed]",
      "text/plain": [
       "<Figure size 640x480 with 1 Axes>"
      ]
     },
     "metadata": {},
     "output_type": "display_data"
    }
   ],
   "source": [
    "import matplotlib.pyplot as plt\n",
    "import numpy as np\n",
    "\n",
    "#data\n",
    "data=np.random.randn(1000)\n",
    "\n",
    "#graph creation\n",
    "plt.hist(data,bins=25)\n",
    "\n",
    "#determine chart properties\n",
    "plt.title(\"Histogram\")\n",
    "plt.xlabel(\"Values\")\n",
    "plt.ylabel(\"Frequency\")\n",
    "\n",
    "plt.show()\n"
   ]
  },
  {
   "cell_type": "code",
   "execution_count": 19,
   "id": "02c35044",
   "metadata": {},
   "outputs": [
    {
     "data": {
      "image/png": "[encoded data removed]",
      "text/plain": [
       "<Figure size 640x480 with 1 Axes>"
      ]
     },
     "metadata": {},
     "output_type": "display_data"
    }
   ],
   "source": [
    "import matplotlib.pyplot as plt\n",
    "import numpy as np\n",
    "\n",
    "#data\n",
    "x = ['A','B','C','D','E']\n",
    "y = np.random.randint(1,10,5)\n",
    "\n",
    "#graph creation\n",
    "plt.bar(x,y)\n",
    "\n",
    "#determine chart graph\n",
    "plt.title(\"Column Chart\")\n",
    "plt.xlabel(\"Categories\")\n",
    "plt.ylabel(\"Values\")\n",
    "\n",
    "#show graph\n",
    "plt.show()"
   ]
  },
  {
   "cell_type": "code",
   "execution_count": 20,
   "id": "72c3c0a4",
   "metadata": {},
   "outputs": [
    {
     "data": {
      "image/png": "[encoded data removed]",
      "text/plain": [
       "<Figure size 640x480 with 1 Axes>"
      ]
     },
     "metadata": {},
     "output_type": "display_data"
    }
   ],
   "source": [
    "import matplotlib.pyplot as plt\n",
    "\n",
    "#data\n",
    "sizes = [30,20,15,10,5,5,10]\n",
    "\n",
    "#graph creation\n",
    "plt.pie(sizes)\n",
    "\n",
    "#determine chart properties\n",
    "plt.title(\"Pie Chart\")\n",
    "\n",
    "plt.show()"
   ]
  },
  {
   "cell_type": "code",
   "execution_count": null,
   "id": "89155fcb",
   "metadata": {},
   "outputs": [],
   "source": []
  }
 ],
 "metadata": {
  "kernelspec": {
   "display_name": "Python 3 (ipykernel)",
   "language": "python",
   "name": "python3"
  },
  "language_info": {
   "codemirror_mode": {
    "name": "ipython",
    "version": 3
   },
   "file_extension": ".py",
   "mimetype": "text/x-python",
   "name": "python",
   "nbconvert_exporter": "python",
   "pygments_lexer": "ipython3",
   "version": "3.9.13"
  }
 },
 "nbformat": 4,
 "nbformat_minor": 5
}
