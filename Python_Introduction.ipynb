{
 "cells": [
  {
   "cell_type": "markdown",
   "id": "daf1bfd8",
   "metadata": {},
   "source": [
    "Python InterView"
   ]
  },
  {
   "cell_type": "code",
   "execution_count": 1,
   "id": "29ac2a51",
   "metadata": {},
   "outputs": [
    {
     "name": "stdout",
     "output_type": "stream",
     "text": [
      "10\n",
      "20\n",
      "30\n",
      "monday\n"
     ]
    }
   ],
   "source": [
    "num1 = 10\n",
    "num2 = 20\n",
    "num3 = 30\n",
    "day = \"monday\"\n",
    "\n",
    "print(num1)\n",
    "print(num2)\n",
    "print(num3)\n",
    "print(day)"
   ]
  },
  {
   "cell_type": "code",
   "execution_count": 7,
   "id": "0ab2c44a",
   "metadata": {},
   "outputs": [
    {
     "name": "stdout",
     "output_type": "stream",
     "text": [
      "[10, 20, 30]\n"
     ]
    },
    {
     "data": {
      "text/plain": [
       "list"
      ]
     },
     "execution_count": 7,
     "metadata": {},
     "output_type": "execute_result"
    }
   ],
   "source": [
    "# list\n",
    "\n",
    "num1 = 10\n",
    "num2 = 20\n",
    "num3 = 30    # variables created\n",
    "\n",
    "list_int1= [num1,num2,num3]  # the created variables have been added to the list\n",
    "print(list_int1)\n",
    "type(list_int1)\n",
    "\n"
   ]
  },
  {
   "cell_type": "code",
   "execution_count": 17,
   "id": "e3c8eb4f",
   "metadata": {},
   "outputs": [
    {
     "data": {
      "text/plain": [
       "10"
      ]
     },
     "execution_count": 17,
     "metadata": {},
     "output_type": "execute_result"
    }
   ],
   "source": [
    "list_int1[0] # the first eleman in the list is called , no need to use the 'print' method"
   ]
  },
  {
   "cell_type": "code",
   "execution_count": 18,
   "id": "cbaa5e40",
   "metadata": {},
   "outputs": [
    {
     "data": {
      "text/plain": [
       "30"
      ]
     },
     "execution_count": 18,
     "metadata": {},
     "output_type": "execute_result"
    }
   ],
   "source": [
    "list_int1[-1] # the last eleman in the list is called."
   ]
  },
  {
   "cell_type": "code",
   "execution_count": 2,
   "id": "14cb89e2",
   "metadata": {},
   "outputs": [
    {
     "data": {
      "text/plain": [
       "[0, 1, 2]"
      ]
     },
     "execution_count": 2,
     "metadata": {},
     "output_type": "execute_result"
    }
   ],
   "source": [
    "list_int2 = [0,1,2,3,4,5,6,7,8,9,10]\n",
    "list_int2[0:3] # the elements in the list are sorted from element 0 to element 3 but do not contain element 3."
   ]
  },
  {
   "cell_type": "code",
   "execution_count": 3,
   "id": "498aa13b",
   "metadata": {},
   "outputs": [
    {
     "data": {
      "text/plain": [
       "[0, 1, 2, 3, 4, 5, 6, 7, 8]"
      ]
     },
     "execution_count": 3,
     "metadata": {},
     "output_type": "execute_result"
    }
   ],
   "source": [
    "list_int2[0:-2]"
   ]
  },
  {
   "cell_type": "code",
   "execution_count": 5,
   "id": "4d5839a5",
   "metadata": {},
   "outputs": [
    {
     "name": "stdout",
     "output_type": "stream",
     "text": [
      "[0, 1, 2, 3, 4, 5, 6, 7, 8, 9, 10, 11]\n"
     ]
    }
   ],
   "source": [
    "list_int2.append(11)\n",
    "print(list_int2) # the element is added to the end of the array."
   ]
  },
  {
   "cell_type": "code",
   "execution_count": 8,
   "id": "a7e85acb",
   "metadata": {},
   "outputs": [
    {
     "name": "stdout",
     "output_type": "stream",
     "text": [
      "['b', 'c', 'e', 'f']\n"
     ]
    }
   ],
   "source": [
    "list_str = ['a','b','c','d','e','f']\n",
    "list_str.remove('a')  # the selected element is deleted from the array.\n",
    "list_str.remove('d')\n",
    "print(list_str)"
   ]
  },
  {
   "cell_type": "code",
   "execution_count": 9,
   "id": "95f69f46",
   "metadata": {},
   "outputs": [
    {
     "name": "stdout",
     "output_type": "stream",
     "text": [
      "[2, 9, 5, 10, 3, 14]\n"
     ]
    }
   ],
   "source": [
    "list_int3 = [14,3,10,5,9,2]\n",
    "list_int3.reverse()  # the array is sorted starting from the last element.\n",
    "print(list_int3)"
   ]
  },
  {
   "cell_type": "code",
   "execution_count": 10,
   "id": "079426fc",
   "metadata": {},
   "outputs": [
    {
     "name": "stdout",
     "output_type": "stream",
     "text": [
      "[2, 3, 5, 9, 10, 14]\n"
     ]
    }
   ],
   "source": [
    "list_int3.sort()\n",
    "print(list_int3)  # the array is sorted starting from the minimum element to maximum element."
   ]
  },
  {
   "cell_type": "code",
   "execution_count": 1,
   "id": "411a22f4",
   "metadata": {},
   "outputs": [
    {
     "name": "stdout",
     "output_type": "stream",
     "text": [
      "1\n",
      "2\n",
      "3\n",
      "4\n",
      "\n",
      "55\n"
     ]
    }
   ],
   "source": [
    "for each in range(1,5):\n",
    "    print(each)   # 1 to 5 , do not contain 5 \n",
    "print()\n",
    "toplam=0\n",
    "i=1\n",
    "while(i<=10):\n",
    "    toplam+=i\n",
    "    i=i+1\n",
    "print(toplam)"
   ]
  },
  {
   "cell_type": "code",
   "execution_count": 18,
   "id": "8284b033",
   "metadata": {},
   "outputs": [
    {
     "name": "stdout",
     "output_type": "stream",
     "text": [
      "Maximum value is: 20\n",
      "Sum of elements in list is: 53\n"
     ]
    }
   ],
   "source": [
    "list_int = [10,14,6,20,3]\n",
    "max_element = 0\n",
    "sum_int = 0\n",
    "\n",
    "for each in list_int:\n",
    "    if(each > max_element): #if list element is greater than the minimum value , the minimum value is equal to the list element. \n",
    "        max_element = each\n",
    "    else: \n",
    "        continue        \n",
    "print(\"Maximum value is:\",max_element)\n",
    "\n",
    "for each in list_int:\n",
    "    sum_int+=each\n",
    "print(\"Sum of elements in list is:\",sum_int)"
   ]
  },
  {
   "cell_type": "code",
   "execution_count": 11,
   "id": "cd4f1667",
   "metadata": {},
   "outputs": [
    {
     "name": "stdout",
     "output_type": "stream",
     "text": [
      "15\n"
     ]
    }
   ],
   "source": [
    "def calculate(x,y):   # function\n",
    "    output = x*y\n",
    "    return output\n",
    "\n",
    "result = calculate(3,5)\n",
    "print(result)"
   ]
  },
  {
   "cell_type": "code",
   "execution_count": 3,
   "id": "46c82fe7",
   "metadata": {},
   "outputs": [
    {
     "name": "stdout",
     "output_type": "stream",
     "text": [
      "{'a': 1, 'b': 2, 'c': 3, 'd': 4, 'e': 5, 'f': 6, 'g': 7}\n"
     ]
    },
    {
     "data": {
      "text/plain": [
       "dict"
      ]
     },
     "execution_count": 3,
     "metadata": {},
     "output_type": "execute_result"
    }
   ],
   "source": [
    "dictionary = {\"a\":1,\"b\":2,\"c\":3,\"d\":4,\"e\":5,\"f\":6,\"g\":7}\n",
    "print(dictionary)\n",
    "type(dictionary)"
   ]
  },
  {
   "cell_type": "code",
   "execution_count": 4,
   "id": "4222c9b5",
   "metadata": {},
   "outputs": [
    {
     "data": {
      "text/plain": [
       "dict_keys(['a', 'b', 'c', 'd', 'e', 'f', 'g'])"
      ]
     },
     "execution_count": 4,
     "metadata": {},
     "output_type": "execute_result"
    }
   ],
   "source": [
    "dictionary.keys()"
   ]
  },
  {
   "cell_type": "code",
   "execution_count": 5,
   "id": "b4058796",
   "metadata": {},
   "outputs": [
    {
     "data": {
      "text/plain": [
       "dict_values([1, 2, 3, 4, 5, 6, 7])"
      ]
     },
     "execution_count": 5,
     "metadata": {},
     "output_type": "execute_result"
    }
   ],
   "source": [
    "dictionary.values()"
   ]
  },
  {
   "cell_type": "code",
   "execution_count": 6,
   "id": "ff465276",
   "metadata": {},
   "outputs": [
    {
     "name": "stdout",
     "output_type": "stream",
     "text": [
      "Yes\n"
     ]
    }
   ],
   "source": [
    "keys = dictionary.keys()\n",
    "if \"d\" in keys:\n",
    "    print(\"Yes\")\n",
    "else:\n",
    "    print(\"No\")"
   ]
  },
  {
   "cell_type": "code",
   "execution_count": null,
   "id": "28244a8b",
   "metadata": {},
   "outputs": [],
   "source": []
  }
 ],
 "metadata": {
  "kernelspec": {
   "display_name": "Python 3 (ipykernel)",
   "language": "python",
   "name": "python3"
  },
  "language_info": {
   "codemirror_mode": {
    "name": "ipython",
    "version": 3
   },
   "file_extension": ".py",
   "mimetype": "text/x-python",
   "name": "python",
   "nbconvert_exporter": "python",
   "pygments_lexer": "ipython3",
   "version": "3.9.13"
  }
 },
 "nbformat": 4,
 "nbformat_minor": 5
}
